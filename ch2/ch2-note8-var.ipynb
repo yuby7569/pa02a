{
 "metadata": {
  "language_info": {
   "codemirror_mode": {
    "name": "ipython",
    "version": 3
   },
   "file_extension": ".py",
   "mimetype": "text/x-python",
   "name": "python",
   "nbconvert_exporter": "python",
   "pygments_lexer": "ipython3",
   "version": "3.9.1-final"
  },
  "orig_nbformat": 2,
  "kernelspec": {
   "name": "python391jvsc74a57bd02da97f5d46c5367906dbac31002eec4d3b61e8c5cdff885ab152c13e966bcf44",
   "display_name": "Python 3.9.1 64-bit"
  },
  "metadata": {
   "interpreter": {
    "hash": "2da97f5d46c5367906dbac31002eec4d3b61e8c5cdff885ab152c13e966bcf44"
   }
  }
 },
 "nbformat": 4,
 "nbformat_minor": 2,
 "cells": [
  {
   "source": [
    "## ch2-note8-var.ipynb by pa02"
   ],
   "cell_type": "markdown",
   "metadata": {}
  },
  {
   "source": [
    "## 변수: 변수란?"
   ],
   "cell_type": "markdown",
   "metadata": {}
  },
  {
   "cell_type": "code",
   "execution_count": 1,
   "metadata": {},
   "outputs": [
    {
     "output_type": "execute_result",
     "data": {
      "text/plain": [
       "2752677160512"
      ]
     },
     "metadata": {},
     "execution_count": 1
    }
   ],
   "source": [
    " #변수는 자료(값)을 저장하는 공간이다.\n",
    " a = [1, 2, 3]\n",
    "id(a)  # a 변수가 가리키는 메모리의 주소\n"
   ]
  },
  {
   "source": [
    "##  list"
   ],
   "cell_type": "markdown",
   "metadata": {}
  },
  {
   "cell_type": "code",
   "execution_count": 3,
   "metadata": {},
   "outputs": [
    {
     "output_type": "stream",
     "name": "stdout",
     "text": [
      "2752677464640\nTrue\nTrue\n2752677464960\nFalse\n"
     ]
    }
   ],
   "source": [
    "a = [1, 2, 3]\n",
    "print(id(a))\n",
    "b = a\n",
    "id(a), id(b)\n",
    "print(a is b)\n",
    "a[1] = 4\n",
    "a, b\n",
    "print(a is b)\n",
    "b = [1, 2, 3]\n",
    "print(id(b))\n",
    "print(a is b)\n",
    "# b 변수를 생성할 때 a 변수의 값을 가져오면서\n",
    "# a와는 다른 주소를 가리키도록 만들수는 없을까?\n",
    "# 다음 2가지 방법이 있다."
   ]
  },
  {
   "source": [
    "### # 1. [:] 이용"
   ],
   "cell_type": "markdown",
   "metadata": {}
  },
  {
   "cell_type": "code",
   "execution_count": 4,
   "metadata": {},
   "outputs": [
    {
     "output_type": "execute_result",
     "data": {
      "text/plain": [
       "([1, 4, 3], [1, 2, 3])"
      ]
     },
     "metadata": {},
     "execution_count": 4
    }
   ],
   "source": [
    "a = [1, 2, 3]\n",
    "b = a[:]\n",
    "a[1] = 4\n",
    "a, b"
   ]
  },
  {
   "source": [
    "### 2. copy 모듈 이용"
   ],
   "cell_type": "markdown",
   "metadata": {}
  },
  {
   "cell_type": "code",
   "execution_count": 9,
   "metadata": {},
   "outputs": [
    {
     "output_type": "execute_result",
     "data": {
      "text/plain": [
       "(False, False)"
      ]
     },
     "metadata": {},
     "execution_count": 9
    }
   ],
   "source": [
    "a = [1, 2, 3]\n",
    "from copy import copy\n",
    "b = copy(a)\n",
    "\n",
    "b is a, a is b"
   ]
  },
  {
   "source": [
    "###  변수를 만드는 여러 가지 방법"
   ],
   "cell_type": "markdown",
   "metadata": {}
  },
  {
   "cell_type": "code",
   "execution_count": 15,
   "metadata": {},
   "outputs": [
    {
     "output_type": "stream",
     "name": "stdout",
     "text": [
      "python\nlife\npython life\npython\nlife\n5\n3\n"
     ]
    }
   ],
   "source": [
    "a, b = (\"python\", \"life\")\n",
    "print(a)\n",
    "print(b)\n",
    "print(a, b)\n",
    "\n",
    "[a, b] = [\"python\", \"life\"]\n",
    "print(a)\n",
    "print(b)\n",
    "\n",
    "a = 3\n",
    "b = 5\n",
    "a, b = b, a\n",
    "print(a)\n",
    "print(b)"
   ]
  },
  {
   "cell_type": "code",
   "execution_count": null,
   "metadata": {},
   "outputs": [],
   "source": []
  }
 ]
}
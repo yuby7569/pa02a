{
 "metadata": {
  "language_info": {
   "codemirror_mode": {
    "name": "ipython",
    "version": 3
   },
   "file_extension": ".py",
   "mimetype": "text/x-python",
   "name": "python",
   "nbconvert_exporter": "python",
   "pygments_lexer": "ipython3",
   "version": "3.8.5-final"
  },
  "orig_nbformat": 2,
  "kernelspec": {
   "name": "python3",
   "display_name": "Python 3",
   "language": "python"
  }
 },
 "nbformat": 4,
 "nbformat_minor": 2,
 "cells": [
  {
   "source": [
    "# 숫자형: 정수"
   ],
   "cell_type": "markdown",
   "metadata": {}
  },
  {
   "cell_type": "code",
   "execution_count": 1,
   "metadata": {},
   "outputs": [
    {
     "output_type": "stream",
     "name": "stdout",
     "text": [
      "123\n-178\n0\n"
     ]
    }
   ],
   "source": [
    "a = 123\n",
    "print(a)\n",
    "a= -178\n",
    "print(a)\n",
    "a = 0\n",
    "print(a)\n"
   ]
  },
  {
   "source": [
    "# 숫자형: 실수"
   ],
   "cell_type": "markdown",
   "metadata": {}
  },
  {
   "cell_type": "code",
   "execution_count": 3,
   "metadata": {},
   "outputs": [
    {
     "output_type": "stream",
     "name": "stdout",
     "text": [
      "1.2\n-3.48\n42000000000.0\n4.2e-10\n"
     ]
    }
   ],
   "source": [
    "a= 1.2\n",
    "print(a)\n",
    "a= -3.48\n",
    "print(a)\n",
    "a= 4.2e10\n",
    "print(a)\n",
    "a=4.2e-10\n",
    "print(a)\n"
   ]
  },
  {
   "source": [
    "# 숫자형: 8진수와 16진수\n",
    " "
   ],
   "cell_type": "markdown",
   "metadata": {}
  },
  {
   "cell_type": "code",
   "execution_count": 4,
   "metadata": {},
   "outputs": [
    {
     "output_type": "stream",
     "name": "stdout",
     "text": [
      "127\n2303\n2748\n"
     ]
    }
   ],
   "source": [
    "a = 0o177\n",
    "print(a)\n",
    "a = 0x8FF\n",
    "print(a)\n",
    "a = 0xABC\n",
    "print(a)\n"
   ]
  },
  {
   "source": [
    "# 숫자형: 연산자와 연산"
   ],
   "cell_type": "markdown",
   "metadata": {}
  },
  {
   "cell_type": "code",
   "execution_count": 5,
   "metadata": {},
   "outputs": [
    {
     "output_type": "stream",
     "name": "stdout",
     "text": [
      "3\n4\n7\n12\n0.75\n81\n3\n0\n"
     ]
    }
   ],
   "source": [
    "a = 3\n",
    "print(a)\n",
    "b = 4\n",
    "print(b)\n",
    "a + b\n",
    "print(a+b)\n",
    "a * b\n",
    "print(a*b)\n",
    "a / b\n",
    "print(a/b)\n",
    "a ** b\n",
    "print(a**b)\n",
    "a % b\n",
    "print(a%b)\n",
    "a // b\n",
    "print(a//b)\n",
    "\n"
   ]
  },
  {
   "cell_type": "code",
   "execution_count": null,
   "metadata": {},
   "outputs": [],
   "source": []
  }
 ]
}
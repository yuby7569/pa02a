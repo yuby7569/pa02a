{
 "metadata": {
  "language_info": {
   "codemirror_mode": {
    "name": "ipython",
    "version": 3
   },
   "file_extension": ".py",
   "mimetype": "text/x-python",
   "name": "python",
   "nbconvert_exporter": "python",
   "pygments_lexer": "ipython3",
   "version": "3.9.1-final"
  },
  "orig_nbformat": 2,
  "kernelspec": {
   "name": "python3",
   "display_name": "Python 3.9.1 64-bit",
   "metadata": {
    "interpreter": {
     "hash": "2da97f5d46c5367906dbac31002eec4d3b61e8c5cdff885ab152c13e966bcf44"
    }
   }
  }
 },
 "nbformat": 4,
 "nbformat_minor": 2,
 "cells": [
  {
   "source": [
    "## ch2-note2-string.ipynb by pa02"
   ],
   "cell_type": "markdown",
   "metadata": {}
  },
  {
   "source": [
    "## 문자열 : "
   ],
   "cell_type": "markdown",
   "metadata": {}
  },
  {
   "source": [
    "food = \"Python's favorite food is perl\"\n",
    "food"
   ],
   "cell_type": "code",
   "metadata": {},
   "execution_count": 6,
   "outputs": [
    {
     "output_type": "execute_result",
     "data": {
      "text/plain": [
       "\"Python's favorite food is perl\""
      ]
     },
     "metadata": {},
     "execution_count": 6
    }
   ]
  },
  {
   "cell_type": "code",
   "execution_count": 7,
   "metadata": {},
   "outputs": [
    {
     "output_type": "execute_result",
     "data": {
      "text/plain": [
       "'\"Python is very easy.\" he says.'"
      ]
     },
     "metadata": {},
     "execution_count": 7
    }
   ],
   "source": [
    "say = '\"Python is very easy.\" he says.'\n",
    "say"
   ]
  },
  {
   "source": [
    "## 문자열: \\ 이용"
   ],
   "cell_type": "markdown",
   "metadata": {}
  },
  {
   "cell_type": "code",
   "execution_count": 9,
   "metadata": {},
   "outputs": [
    {
     "output_type": "execute_result",
     "data": {
      "text/plain": [
       "\"Python's favorite food is perl\""
      ]
     },
     "metadata": {},
     "execution_count": 9
    }
   ],
   "source": [
    "food = 'Python\\'s favorite food is perl'\n",
    "food"
   ]
  },
  {
   "cell_type": "code",
   "execution_count": 10,
   "metadata": {},
   "outputs": [
    {
     "output_type": "execute_result",
     "data": {
      "text/plain": [
       "'\"Python is very easy.\" he says.'"
      ]
     },
     "metadata": {},
     "execution_count": 10
    }
   ],
   "source": [
    "say = \"\\\"Python is very easy.\\\" he says.\"\n",
    "say"
   ]
  },
  {
   "source": [
    "## 문자열: 이스케이프 코드 이용"
   ],
   "cell_type": "markdown",
   "metadata": {}
  },
  {
   "cell_type": "code",
   "execution_count": 11,
   "metadata": {},
   "outputs": [
    {
     "output_type": "stream",
     "name": "stdout",
     "text": [
      "Life is too short\nYou need python\n"
     ]
    }
   ],
   "source": [
    "multiline = \"Life is too short\\nYou need python\"\n",
    "multiline\n",
    "print(multiline)"
   ]
  },
  {
   "source": [
    "## 여러줄 문자열 처리"
   ],
   "cell_type": "markdown",
   "metadata": {}
  },
  {
   "cell_type": "code",
   "execution_count": 13,
   "metadata": {},
   "outputs": [
    {
     "output_type": "stream",
     "name": "stdout",
     "text": [
      "\nLife is too short\nYou need python\n\n"
     ]
    }
   ],
   "source": [
    "multiline = '''\n",
    "... Life is too short\n",
    "... You need python\n",
    "... '''\n",
    "multiline\n",
    "print(multiline)\n"
   ]
  },
  {
   "source": [
    "## 문자열 연산: 더하기"
   ],
   "cell_type": "markdown",
   "metadata": {}
  },
  {
   "cell_type": "code",
   "execution_count": 17,
   "metadata": {},
   "outputs": [
    {
     "output_type": "stream",
     "name": "stdout",
     "text": [
      "문자열 연산: 더하기\n"
     ]
    },
    {
     "output_type": "execute_result",
     "data": {
      "text/plain": [
       "'Python is fun!'"
      ]
     },
     "metadata": {},
     "execution_count": 17
    }
   ],
   "source": [
    "print(\"문자열 연산: 더하기\")\n",
    "head = \"Python\"\n",
    "tail = \" is fun!\"\n",
    "head + tail\n",
    "\n"
   ]
  },
  {
   "cell_type": "code",
   "execution_count": 18,
   "metadata": {},
   "outputs": [
    {
     "output_type": "stream",
     "name": "stdout",
     "text": [
      "문자열 연산: 곱하기\n"
     ]
    },
    {
     "output_type": "execute_result",
     "data": {
      "text/plain": [
       "'pythonpython'"
      ]
     },
     "metadata": {},
     "execution_count": 18
    }
   ],
   "source": [
    "print(\"문자열 연산: 곱하기\")\n",
    "a = \"python\"\n",
    "a * 2"
   ]
  },
  {
   "source": [
    "## multistring.py"
   ],
   "cell_type": "markdown",
   "metadata": {}
  },
  {
   "cell_type": "code",
   "execution_count": 19,
   "metadata": {},
   "outputs": [
    {
     "output_type": "stream",
     "name": "stdout",
     "text": [
      "==================================================\nI am now coding Python!\n==================================================\n"
     ]
    }
   ],
   "source": [
    "print(\"=\" * 50)\n",
    "print(\"I am now coding Python!\")\n",
    "print(\"=\" * 50)"
   ]
  },
  {
   "source": [
    "## 내장함수: len()"
   ],
   "cell_type": "markdown",
   "metadata": {}
  },
  {
   "cell_type": "code",
   "execution_count": 20,
   "metadata": {},
   "outputs": [
    {
     "output_type": "stream",
     "name": "stdout",
     "text": [
      "문자열 연산: 길이 구하기 - len()\n"
     ]
    },
    {
     "output_type": "execute_result",
     "data": {
      "text/plain": [
       "17"
      ]
     },
     "metadata": {},
     "execution_count": 20
    }
   ],
   "source": [
    "print(\"문자열 연산: 길이 구하기 - len()\")\n",
    "a = \"Life is too short\"\n",
    "len(a)"
   ]
  },
  {
   "source": [
    "## 문자열: 인덱싱이란?"
   ],
   "cell_type": "markdown",
   "metadata": {}
  },
  {
   "cell_type": "code",
   "execution_count": 24,
   "metadata": {},
   "outputs": [
    {
     "output_type": "stream",
     "name": "stdout",
     "text": [
      "문자열: 인덱싱이란?\n"
     ]
    },
    {
     "output_type": "execute_result",
     "data": {
      "text/plain": [
       "'e'"
      ]
     },
     "metadata": {},
     "execution_count": 24
    }
   ],
   "source": [
    "print(\"문자열: 인덱싱이란?\")\n",
    "a = \"Life is too short, You need Python\"\n",
    "a[3]"
   ]
  },
  {
   "cell_type": "code",
   "execution_count": 25,
   "metadata": {},
   "outputs": [
    {
     "output_type": "stream",
     "name": "stdout",
     "text": [
      "문자열: 인덱싱이란?\n"
     ]
    },
    {
     "output_type": "execute_result",
     "data": {
      "text/plain": [
       "'r'"
      ]
     },
     "metadata": {},
     "execution_count": 25
    }
   ],
   "source": [
    "print(\"문자열: 인덱싱이란?\")\n",
    "a = \"Life is too short, You need Python\"\n",
    "a[15]"
   ]
  },
  {
   "source": [
    "## 문자열: 인덱싱 활용"
   ],
   "cell_type": "markdown",
   "metadata": {}
  },
  {
   "cell_type": "code",
   "execution_count": 30,
   "metadata": {},
   "outputs": [
    {
     "output_type": "stream",
     "name": "stdout",
     "text": [
      "문자열: 인덱싱 활용\n"
     ]
    },
    {
     "output_type": "execute_result",
     "data": {
      "text/plain": [
       "'L'"
      ]
     },
     "metadata": {},
     "execution_count": 30
    }
   ],
   "source": [
    "print(\"문자열: 인덱싱 활용\")\n",
    "\n",
    "a = \"Life is too short, You need Python\"\n",
    "a[0]\n",
    "\n"
   ]
  },
  {
   "cell_type": "code",
   "execution_count": 33,
   "metadata": {},
   "outputs": [
    {
     "output_type": "stream",
     "name": "stdout",
     "text": [
      "문자열: 인덱싱 활용\n"
     ]
    },
    {
     "output_type": "execute_result",
     "data": {
      "text/plain": [
       "'s'"
      ]
     },
     "metadata": {},
     "execution_count": 33
    }
   ],
   "source": [
    "print(\"문자열: 인덱싱 활용\")\n",
    "\n",
    "a = \"Life is too short, You need Python\"\n",
    "a[12]\n"
   ]
  },
  {
   "cell_type": "code",
   "execution_count": 37,
   "metadata": {},
   "outputs": [
    {
     "output_type": "stream",
     "name": "stdout",
     "text": [
      "문자열: 인덱싱 활용\n"
     ]
    },
    {
     "output_type": "execute_result",
     "data": {
      "text/plain": [
       "'n'"
      ]
     },
     "metadata": {},
     "execution_count": 37
    }
   ],
   "source": [
    "print(\"문자열: 인덱싱 활용\")\n",
    "\n",
    "a = \"Life is too short, You need Python\"\n",
    "a[-1]"
   ]
  },
  {
   "cell_type": "code",
   "execution_count": 38,
   "metadata": {},
   "outputs": [
    {
     "output_type": "stream",
     "name": "stdout",
     "text": [
      "문자열: 인덱싱 활용\n"
     ]
    },
    {
     "output_type": "execute_result",
     "data": {
      "text/plain": [
       "'y'"
      ]
     },
     "metadata": {},
     "execution_count": 38
    }
   ],
   "source": [
    "print(\"문자열: 인덱싱 활용\")\n",
    "\n",
    "a = \"Life is too short, You need Python\"\n",
    "a[-5]"
   ]
  },
  {
   "cell_type": "code",
   "execution_count": 39,
   "metadata": {},
   "outputs": [
    {
     "output_type": "stream",
     "name": "stdout",
     "text": [
      "문자열: 인덱싱 활용\n"
     ]
    },
    {
     "output_type": "execute_result",
     "data": {
      "text/plain": [
       "' '"
      ]
     },
     "metadata": {},
     "execution_count": 39
    }
   ],
   "source": [
    "print(\"문자열: 인덱싱 활용\")\n",
    "\n",
    "a = \"Life is too short, You need Python\"\n",
    "a[-12]"
   ]
  },
  {
   "source": [
    "## 문자열: 슬라이싱이란"
   ],
   "cell_type": "markdown",
   "metadata": {}
  },
  {
   "cell_type": "code",
   "execution_count": 48,
   "metadata": {},
   "outputs": [
    {
     "output_type": "stream",
     "name": "stdout",
     "text": [
      "Life\nLife \nis\nshort\nLife\nYou need Python\nLife is too short\nLife is too short, You need Python\nYou need\n"
     ]
    }
   ],
   "source": [
    "a = \"Life is too short, You need Python\"\n",
    "# Life 를 뽑아낼려면 어떻게?\n",
    "b = a[0] + a[1] + a[2] + a[3]  # 문자열 뎌하기 연산\n",
    "b\n",
    "# slicing (슬라이싱)\n",
    "print(a[0:4])  # 0 <= index < 4\n",
    "\n",
    "print(a[0:5])\n",
    "print(a[5:7])\n",
    "print(a[12:17])\n",
    "# : 의 사용\n",
    "print(a[:4])\n",
    "print(a[19:])\n",
    "print(a[:17])\n",
    "\n",
    "print(a[:])\n",
    "\n",
    "# a[19:-7] ?\n",
    "print(a[19:-7])\n"
   ]
  },
  {
   "source": [
    "## 문자열: 슬라이싱 응용?"
   ],
   "cell_type": "markdown",
   "metadata": {}
  },
  {
   "cell_type": "code",
   "execution_count": 49,
   "metadata": {},
   "outputs": [
    {
     "output_type": "stream",
     "name": "stdout",
     "text": [
      "20190909\nSunny\n2019 0917 Rainy\n"
     ]
    }
   ],
   "source": [
    "a = \"20190909Sunny\"\n",
    "date = a[:8]\n",
    "weather = a[8:]\n",
    "print(date)\n",
    "print(weather)\n",
    "\n",
    "a = \"20190917Rainy\"\n",
    "year = a[:4]\n",
    "day = a[4:8]\n",
    "weather = a[8:]\n",
    "print(year,day,weather)"
   ]
  },
  {
   "source": [
    "## \"Pithon\"이라는 문자열을 \"Python\"으로 바꾸려면?"
   ],
   "cell_type": "markdown",
   "metadata": {}
  },
  {
   "cell_type": "code",
   "execution_count": 51,
   "metadata": {},
   "outputs": [
    {
     "output_type": "execute_result",
     "data": {
      "text/plain": [
       "'Python'"
      ]
     },
     "metadata": {},
     "execution_count": 51
    }
   ],
   "source": [
    "#a = \"Pithon\"\n",
    "#a[1]\n",
    "# a[1] = 'y'  # Error (immutable한 자료형)\n",
    "\n",
    "a = \"Pithon\"\n",
    "a[:1]\n",
    "a[2:]\n",
    "a[:1] + 'y' + a[2:]  # Python"
   ]
  },
  {
   "source": [
    "## ch2-note3-string_formating.ipynb by pa02"
   ],
   "cell_type": "markdown",
   "metadata": {}
  },
  {
   "cell_type": "code",
   "execution_count": 1,
   "metadata": {},
   "outputs": [
    {
     "output_type": "stream",
     "name": "stdout",
     "text": [
      "I eat 3 apples.\nI eat five apples.\nI eat 3 apples.\n"
     ]
    },
    {
     "output_type": "execute_result",
     "data": {
      "text/plain": [
       "'I ate 10 apples. so I was sick for three days.'"
      ]
     },
     "metadata": {},
     "execution_count": 1
    }
   ],
   "source": [
    "# 1. 숫자 바로 대입\n",
    "print(\"I eat %d apples.\" % 3) # %d 는 숫자 포매터\n",
    "\n",
    "# 2. 문자열 바로 대입\n",
    "print(\"I eat %s apples.\" % \"five\") # %s 는 문자 포매터\n",
    "\n",
    "# 3. 숫자 값을 나타내는 변수로 대입\n",
    "number = 3\n",
    "print(\"I eat %d apples.\" % number)\n",
    "\n",
    "# 4. 2개 이상의 값 넣기\n",
    "number = 10\n",
    "day = \"three\"\n",
    "#\"I ate %d apples. so I was sick for %s days.\" % number  # , day   # Error\n",
    "\"I ate %d apples. so I was sick for %s days.\" % (number, day)\n",
    "# 소괄호 안에 콤마(,)로 구분하여 각각의 값을 넣어 준다. (튜플로 묶음)"
   ]
  },
  {
   "source": [
    "## 문자열 : 포맷코드"
   ],
   "cell_type": "markdown",
   "metadata": {}
  },
  {
   "cell_type": "code",
   "execution_count": 3,
   "metadata": {},
   "outputs": [
    {
     "output_type": "stream",
     "name": "stdout",
     "text": [
      "I have 3 apples\nrate is 3.234\nError is 98%.\n"
     ]
    }
   ],
   "source": [
    "# %d (숫자형), %s (문자열), %c (문자 하나), %f (실수), %o (8진수), %x(16진수), %% (%기호)\n",
    "# %s, 묵시적 형변환\n",
    "print(\"I have %s apples\" % 3)\n",
    "print(\"rate is %s\" % 3.234) #문자열로 형변환 해서 묵시적으로 바꿔줌\n",
    "\n",
    "# \"Error is %d%.\" % 98 오류\n",
    "print(\"Error is %d%%.\" % 98)"
   ]
  },
  {
   "source": [
    "## 문자열: 포맷 코드와 숫자 함께 사용하기"
   ],
   "cell_type": "markdown",
   "metadata": {}
  },
  {
   "cell_type": "code",
   "execution_count": 4,
   "metadata": {},
   "outputs": [
    {
     "output_type": "stream",
     "name": "stdout",
     "text": [
      "        hi\nhi        jane.\n3.4213\n    3.4213\n"
     ]
    }
   ],
   "source": [
    "# 1. 정렬과 공백\n",
    "print(\"%10s\" % \"hi\")\n",
    "print(\"%-10sjane.\" % \"hi\")\n",
    "# 2. 소수점 표현하기\n",
    "print(\"%0.4f\" % 3.42134234)\n",
    "print(\"%10.4f\" % 3.42134234)"
   ]
  },
  {
   "source": [
    "## 문자열: format 함수를 사용한 포매팅"
   ],
   "cell_type": "markdown",
   "metadata": {}
  },
  {
   "cell_type": "code",
   "execution_count": 5,
   "metadata": {},
   "outputs": [
    {
     "output_type": "stream",
     "name": "stdout",
     "text": [
      "I eat 3 apples.\nI eat 4 apples.\nI eat five apples.\nI eat five apples from three boxes.\nI eat 3 apples\nI eat 4 apples\n"
     ]
    }
   ],
   "source": [
    "# 1. 숫자 바로 대입하기\n",
    "print(\"I eat {0} apples.\".format(3))\n",
    "print(\"I eat {1} apples.\".format(3,4))\n",
    "# 2. 문자열 바로 대입하기\n",
    "print(\"I eat {0} apples.\". format(\"five\"))\n",
    "print(\"I eat {0} apples from {1} boxes.\" . format(\"five\", \"three\"))\n",
    "# 3. 숫자 값을 가진 변수로 대입하기\n",
    "number = 3\n",
    "print(\"I eat {0} apples\". format(number))\n",
    "print(\"I eat {0} apples\". format(number + 1))"
   ]
  },
  {
   "source": [
    "## 2개 이상의 값 넣기"
   ],
   "cell_type": "markdown",
   "metadata": {}
  },
  {
   "cell_type": "code",
   "execution_count": 6,
   "metadata": {},
   "outputs": [
    {
     "output_type": "stream",
     "name": "stdout",
     "text": [
      "I ate 10 apples. so I was sick for three days.\n"
     ]
    }
   ],
   "source": [
    "number = 10\n",
    "day = \"three\"\n",
    "print(\"I ate {0} apples. so I was sick for {1} days.\".format(number, day))"
   ]
  },
  {
   "source": [
    "##  이름으로 넣기"
   ],
   "cell_type": "markdown",
   "metadata": {}
  },
  {
   "cell_type": "code",
   "execution_count": 8,
   "metadata": {},
   "outputs": [
    {
     "output_type": "execute_result",
     "data": {
      "text/plain": [
       "'I ate 10 apples. so I was sick for 3 days.'"
      ]
     },
     "metadata": {},
     "execution_count": 8
    }
   ],
   "source": [
    "\"I ate {number} apples. so I was sick for {day} days.\".format(number=10, day=3)"
   ]
  },
  {
   "source": [
    "## 인덱스와 이름을 혼용해서 넣기"
   ],
   "cell_type": "markdown",
   "metadata": {}
  },
  {
   "cell_type": "code",
   "execution_count": 9,
   "metadata": {},
   "outputs": [
    {
     "output_type": "execute_result",
     "data": {
      "text/plain": [
       "'I ate 10 apples. so I was sick for 3 days.'"
      ]
     },
     "metadata": {},
     "execution_count": 9
    }
   ],
   "source": [
    "\"I ate {0} apples. so I was sick for {day} days.\".format(10, day = 3)"
   ]
  },
  {
   "source": [
    "## 정렬"
   ],
   "cell_type": "markdown",
   "metadata": {}
  },
  {
   "cell_type": "code",
   "execution_count": 12,
   "metadata": {},
   "outputs": [
    {
     "output_type": "stream",
     "name": "stdout",
     "text": [
      "hi        \n        hi\n    hi    \n====hi====\nhi!!!!!!!!\n"
     ]
    }
   ],
   "source": [
    "# 왼쪽 정렬/ 오른쪽 정렬\n",
    "print(\"{0:<10}\".format(\"hi\"))\n",
    "print(\"{0:>10}\".format(\"hi\"))\n",
    "# 가운데 정렬\n",
    "print(\"{0:^10}\".format(\"hi\"))\n",
    "# 공백 채우기\n",
    "print(\"{0:=^10}\".format(\"hi\"))\n",
    "print(\"{0:!<10}\".format(\"hi\"))\n",
    "# 도전하기\n",
    "# \"{0:<10}{1:>10}\".format(\"hi\", 'hcit')"
   ]
  },
  {
   "source": [
    "## 소수점 표현하기"
   ],
   "cell_type": "markdown",
   "metadata": {}
  },
  {
   "cell_type": "code",
   "execution_count": 14,
   "metadata": {},
   "outputs": [
    {
     "output_type": "stream",
     "name": "stdout",
     "text": [
      "3.4213\n    3.4213\n{ and }\n"
     ]
    }
   ],
   "source": [
    "y = 3.42134234\n",
    "print(\"{0:0.4f}\".format(y))\n",
    "print(\"{0:10.4f}\".format(y))\n",
    "# { 또는 } 문자 표현하기\n",
    "print(\"{{ and }}\".format())"
   ]
  },
  {
   "source": [
    "## 문자열: f 문자열 포매팅"
   ],
   "cell_type": "markdown",
   "metadata": {}
  },
  {
   "cell_type": "code",
   "execution_count": 15,
   "metadata": {},
   "outputs": [
    {
     "output_type": "stream",
     "name": "stdout",
     "text": [
      "나는 내년이면 31살이 된다.\n나의 이름은 홍길동입니다. 나이는 30입니다.\nhi        \n        hi\n    hi    \n{and}\n"
     ]
    }
   ],
   "source": [
    "name = \"홍길동\"\n",
    "age = 30 \n",
    "print(f\"나는 내년이면 {age +1}살이 된다.\")\n",
    "d = {\"name\": \"홍길동\", \"age\": 30}\n",
    "print(f'나의 이름은 {d[\"name\"]}입니다. 나이는 {d[\"age\"]}입니다.') \n",
    "# 정렬\n",
    "print(f'{\"hi\":<10}')\n",
    "print(f'{\"hi\":>10}')\n",
    "print(f'{\"hi\":^10}')\n",
    "print(f\"{{and}}\")"
   ]
  },
  {
   "source": [
    "## 문자열: 관련 내장 함수들"
   ],
   "cell_type": "markdown",
   "metadata": {}
  },
  {
   "cell_type": "code",
   "execution_count": 17,
   "metadata": {},
   "outputs": [
    {
     "output_type": "stream",
     "name": "stdout",
     "text": [
      "2\n14\n-1\n8\n2\n"
     ]
    }
   ],
   "source": [
    "# 문자 개수 세기(count)\n",
    "a = \"hobby\"\n",
    "print(a.count(\"b\"))\n",
    "# 위치 알려주기1(find)\n",
    "a = \"Python is the best choice\"\n",
    "print(a.find(\"b\"))\n",
    "print(a.find(\"k\")) # what value?\n",
    "# 위치 알려주기2(index)\n",
    "a = \"Like is too short\"\n",
    "print(a.index(\"t\"))\n",
    "print(a.index(\"k\"))"
   ]
  },
  {
   "source": [
    "## 문자열 삽입(join)"
   ],
   "cell_type": "markdown",
   "metadata": {}
  },
  {
   "cell_type": "code",
   "execution_count": 18,
   "metadata": {},
   "outputs": [
    {
     "output_type": "stream",
     "name": "stdout",
     "text": [
      "a,b,c,d\na,b,c,d\nHI\niot\nhi\nhi\nhi\nYour leg is too short\n['Life', 'is', 'too', 'short']\n['a:b:c:d']\n"
     ]
    }
   ],
   "source": [
    "# 문자열 삽입\n",
    "print(\",\".join(\"abcd\"))\n",
    "print(\",\".join([\"a\",\"b\",\"c\",\"d\"]))\n",
    "# 소문자를 대문자로 바꾸기(upper)\n",
    "a = \"hi\"\n",
    "print(a.upper())\n",
    "# 대문자를 소문자로 바꾸기(lower)\n",
    "a = \"IoT\"\n",
    "print(a.lower())\n",
    "# 왼쪽 공백 지우기(lstrip))\n",
    "a = \"hi\"\n",
    "print(a.lstrip())\n",
    "# 오른쪽 공백 지우기(rstrip))\n",
    "print(a.rstrip())\n",
    "# 양쪽 공백 지우기(strip))\n",
    "print(a.strip())\n",
    "# 문자열 바꾸기(replace)\n",
    "a = \"Life is too short\"\n",
    "print(a.replace(\"Life\", \"Your leg\"))\n",
    "\n",
    "# 문자열 나누기(split) -> 리스트로 변환하여 반환\n",
    "a = \"Life is too short\"\n",
    "print(a.split())\n",
    "b = \"a:b:c:d\"\n",
    "print(b.split())"
   ]
  },
  {
   "cell_type": "code",
   "execution_count": null,
   "metadata": {},
   "outputs": [],
   "source": []
  }
 ]
}